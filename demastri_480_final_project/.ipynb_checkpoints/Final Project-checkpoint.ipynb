{
 "cells": [
  {
   "cell_type": "markdown",
   "metadata": {},
   "source": [
    "# PHY 480 Final Project\n",
    "## Thomas DeMastri"
   ]
  },
  {
   "cell_type": "markdown",
   "metadata": {},
   "source": [
    "I wanted to build a model of an ideal gas and compare it "
   ]
  },
  {
   "cell_type": "markdown",
   "metadata": {},
   "source": [
    "## I. Monoatomic Ideal Gas"
   ]
  },
  {
   "cell_type": "markdown",
   "metadata": {},
   "source": [
    "### A. Testing:"
   ]
  },
  {
   "cell_type": "code",
   "execution_count": 1,
   "metadata": {},
   "outputs": [],
   "source": [
    "import scipy.constants as scp\n",
    "import numpy as np\n",
    "import time\n",
    "from IPython.display import *\n",
    "import matplotlib.pyplot as plt\n",
    "from mpl_toolkits.mplot3d import Axes3D\n",
    "import Ideal_Particle as ideal_ptr\n",
    "import Ideal_System as ideal_sys"
   ]
  },
  {
   "cell_type": "markdown",
   "metadata": {},
   "source": [
    "I've built a script to model a monoatomic ideal gas.  \n",
    "The cell below will model 10 hydrogen atoms contained in a cube with volume 1 $m^{3}$  at room temperature. It's possible to change these parameters and a few others (check the Ideal_System object for more details), but this is what the default is set to.  \n",
    "It is also currently set to make an animation of their motion so we can check that the particles are staying inside the box.  "
   ]
  },
  {
   "cell_type": "code",
   "execution_count": 2,
   "metadata": {},
   "outputs": [
    {
     "ename": "KeyboardInterrupt",
     "evalue": "",
     "output_type": "error",
     "traceback": [
      "\u001b[1;31m---------------------------------------------------------------------------\u001b[0m",
      "\u001b[1;31mKeyboardInterrupt\u001b[0m                         Traceback (most recent call last)",
      "\u001b[1;32m<ipython-input-2-9555505a0a69>\u001b[0m in \u001b[0;36m<module>\u001b[1;34m\u001b[0m\n\u001b[0;32m      1\u001b[0m \u001b[0msys\u001b[0m \u001b[1;33m=\u001b[0m \u001b[0mideal_sys\u001b[0m\u001b[1;33m.\u001b[0m\u001b[0mSystem\u001b[0m\u001b[1;33m(\u001b[0m\u001b[0mtotal_time\u001b[0m\u001b[1;33m=\u001b[0m\u001b[1;36m10\u001b[0m\u001b[1;33m,\u001b[0m \u001b[0mN\u001b[0m\u001b[1;33m=\u001b[0m\u001b[1;36m10\u001b[0m\u001b[1;33m)\u001b[0m\u001b[1;33m\u001b[0m\u001b[1;33m\u001b[0m\u001b[0m\n\u001b[1;32m----> 2\u001b[1;33m \u001b[0mpos\u001b[0m \u001b[1;33m=\u001b[0m \u001b[0msys\u001b[0m\u001b[1;33m.\u001b[0m\u001b[0mrun\u001b[0m\u001b[1;33m(\u001b[0m\u001b[0mplot\u001b[0m\u001b[1;33m=\u001b[0m\u001b[1;32mTrue\u001b[0m\u001b[1;33m)\u001b[0m\u001b[1;33m\u001b[0m\u001b[1;33m\u001b[0m\u001b[0m\n\u001b[0m\u001b[0;32m      3\u001b[0m \u001b[0msys\u001b[0m\u001b[1;33m.\u001b[0m\u001b[0mplot\u001b[0m\u001b[1;33m(\u001b[0m\u001b[0mpos\u001b[0m\u001b[1;33m,\u001b[0m \u001b[0mdt\u001b[0m \u001b[1;33m=\u001b[0m \u001b[1;36m0.05\u001b[0m\u001b[1;33m)\u001b[0m\u001b[1;33m\u001b[0m\u001b[1;33m\u001b[0m\u001b[0m\n",
      "\u001b[1;32m~\\demastri_480_final_project\\Ideal_System.py\u001b[0m in \u001b[0;36mrun\u001b[1;34m(self, plot)\u001b[0m\n\u001b[0;32m    185\u001b[0m                 \u001b[0mmomentum\u001b[0m \u001b[1;33m=\u001b[0m \u001b[0mself\u001b[0m\u001b[1;33m.\u001b[0m\u001b[0mupdate\u001b[0m\u001b[1;33m(\u001b[0m\u001b[1;33m)\u001b[0m\u001b[1;33m\u001b[0m\u001b[1;33m\u001b[0m\u001b[0m\n\u001b[0;32m    186\u001b[0m                 \u001b[0mself\u001b[0m\u001b[1;33m.\u001b[0m\u001b[0mp_col\u001b[0m \u001b[1;33m+=\u001b[0m \u001b[0mmomentum\u001b[0m\u001b[1;33m\u001b[0m\u001b[1;33m\u001b[0m\u001b[0m\n\u001b[1;32m--> 187\u001b[1;33m                 \u001b[0mpositions\u001b[0m\u001b[1;33m.\u001b[0m\u001b[0mappend\u001b[0m\u001b[1;33m(\u001b[0m\u001b[0mself\u001b[0m\u001b[1;33m.\u001b[0m\u001b[0mgetparticlepos\u001b[0m\u001b[1;33m(\u001b[0m\u001b[1;33m)\u001b[0m\u001b[1;33m)\u001b[0m\u001b[1;33m\u001b[0m\u001b[1;33m\u001b[0m\u001b[0m\n\u001b[0m\u001b[0;32m    188\u001b[0m                 \u001b[0mt\u001b[0m \u001b[1;33m+=\u001b[0m \u001b[0mself\u001b[0m\u001b[1;33m.\u001b[0m\u001b[0mtimestep\u001b[0m\u001b[1;33m\u001b[0m\u001b[1;33m\u001b[0m\u001b[0m\n\u001b[0;32m    189\u001b[0m \u001b[1;33m\u001b[0m\u001b[0m\n",
      "\u001b[1;32m~\\demastri_480_final_project\\Ideal_System.py\u001b[0m in \u001b[0;36mgetparticlepos\u001b[1;34m(self)\u001b[0m\n\u001b[0;32m    149\u001b[0m         \u001b[1;32mfor\u001b[0m \u001b[0mi\u001b[0m \u001b[1;32min\u001b[0m \u001b[0mrange\u001b[0m\u001b[1;33m(\u001b[0m\u001b[0mlen\u001b[0m\u001b[1;33m(\u001b[0m\u001b[0mself\u001b[0m\u001b[1;33m.\u001b[0m\u001b[0mparticles\u001b[0m\u001b[1;33m)\u001b[0m\u001b[1;33m)\u001b[0m\u001b[1;33m:\u001b[0m\u001b[1;33m\u001b[0m\u001b[1;33m\u001b[0m\u001b[0m\n\u001b[0;32m    150\u001b[0m             \u001b[0mparticlepos\u001b[0m\u001b[1;33m.\u001b[0m\u001b[0mappend\u001b[0m\u001b[1;33m(\u001b[0m\u001b[0mself\u001b[0m\u001b[1;33m.\u001b[0m\u001b[0mparticles\u001b[0m\u001b[1;33m[\u001b[0m\u001b[0mi\u001b[0m\u001b[1;33m]\u001b[0m\u001b[1;33m.\u001b[0m\u001b[0mpos\u001b[0m\u001b[1;33m)\u001b[0m\u001b[1;33m\u001b[0m\u001b[1;33m\u001b[0m\u001b[0m\n\u001b[1;32m--> 151\u001b[1;33m         \u001b[1;32mreturn\u001b[0m \u001b[0mnp\u001b[0m\u001b[1;33m.\u001b[0m\u001b[0marray\u001b[0m\u001b[1;33m(\u001b[0m\u001b[0mparticlepos\u001b[0m\u001b[1;33m)\u001b[0m\u001b[1;33m\u001b[0m\u001b[1;33m\u001b[0m\u001b[0m\n\u001b[0m\u001b[0;32m    152\u001b[0m \u001b[1;33m\u001b[0m\u001b[0m\n\u001b[0;32m    153\u001b[0m \u001b[1;33m\u001b[0m\u001b[0m\n",
      "\u001b[1;31mKeyboardInterrupt\u001b[0m: "
     ]
    }
   ],
   "source": [
    "sys = ideal_sys.System(total_time=10, N=10)\n",
    "pos = sys.run(plot=True)\n",
    "sys.plot(pos, dt = 0.05)"
   ]
  },
  {
   "cell_type": "markdown",
   "metadata": {},
   "source": [
    "One can already see there is a noticeable runtime here. We can save time in the future by setting \"plot=False\" so we don't have to keep track of the particles' positions at each step.  \n",
    "I've set up a test below of how our runtime scales with the number of particles. This took about 10 minutes to run on my (pretty low-performance) laptop:  \n",
    "If you don't want to wait that long, I can spoil the results and tell you it's linear."
   ]
  },
  {
   "cell_type": "code",
   "execution_count": null,
   "metadata": {},
   "outputs": [],
   "source": [
    "runtimes = []\n",
    "\n",
    "for n in range(10,151,10):\n",
    "    \n",
    "    sys = ideal_sys.System(total_time=10, N=n)\n",
    "    \n",
    "    start = time.time()\n",
    "    sys.run()\n",
    "    end = time.time()\n",
    "    \n",
    "    runtimes.append(end-start)\n",
    "    \n",
    "    print(n)"
   ]
  },
  {
   "cell_type": "code",
   "execution_count": null,
   "metadata": {},
   "outputs": [],
   "source": [
    "runtimes_arr = np.array(runtimes)\n",
    "N = np.array(range(10,151,10))\n",
    "\n",
    "coeff = np.polyfit(N, runtimes_arr,1)\n",
    "fit_title = \"t=\"+str(np.round(coeff[0],3))+\"*N + \"+str(np.round(coeff[1],3))\n",
    "\n",
    "plt.figure(figsize=(10,8))\n",
    "plt.xlabel(\"Number of Particles\")\n",
    "plt.ylabel(\"Runtime\")\n",
    "plt.xlim(0,160)\n",
    "\n",
    "plt.scatter(N, runtimes_arr, color=\"blue\")\n",
    "plt.plot(N, coeff[0]*N+coeff[1], color= \"red\", label=fit_title)\n",
    "plt.title(\"Analysis of Runtime vs. Number of Particles\")\n",
    "plt.legend(loc=\"upper left\")"
   ]
  },
  {
   "cell_type": "markdown",
   "metadata": {},
   "source": [
    "The runtime of a single simulation ends up being linear in N. This means if we want to average the pressure from multiple different simulations, we'll have an exponential growth in runtime.  \n",
    "This means it is best to choose a smaller value of N and vary our other system variables, or increase N and decrease the total amount of time we're running the simulation by a similar factor."
   ]
  },
  {
   "cell_type": "markdown",
   "metadata": {},
   "source": [
    "### B. Pressure vs. Temperature"
   ]
  },
  {
   "cell_type": "markdown",
   "metadata": {},
   "source": [
    "The ideal gas law tells us that pressure and temperature should be linearly related.  \n",
    "I've leaned on my stat mech textbook to define pressure in our system as:  \n",
    "$p =$ (momentum change per molecule) $*$ (number of molecules striking unit area per unit time)  \n",
    "Let's see if this definition of pressure produces a linear relationship with the temperature."
   ]
  },
  {
   "cell_type": "markdown",
   "metadata": {},
   "source": [
    "We'll start by investigating a huge range of temperatures, from $10^{-12}$ to $10^{12}$ Kelvin"
   ]
  },
  {
   "cell_type": "code",
   "execution_count": 65,
   "metadata": {},
   "outputs": [],
   "source": [
    "n = 20 #working with pretty small number of particles for runtime considerations\n",
    "temps = scp.Boltzmann*np.array([10**-12, 10**-11,10**-10,10**-9,10**-8,10**-7,10**-6,10**-5,10**-4,10**-3,10**-2,10**-1,1,10,10**2,10**3,10**4,10**5,10**6,10**7,10**8,10**9,10**10,10**11,10**12])"
   ]
  },
  {
   "cell_type": "code",
   "execution_count": 66,
   "metadata": {},
   "outputs": [],
   "source": [
    "def pressure_temp(n,temperatures):\n",
    "\n",
    "    pressures = np.array([0.]*temperatures.size,dtype='float64') #our calculated pressure\n",
    "    error = np.array([0.]*temperatures.size,dtype='float64') #error in our pressure, with the correct pressure being calculated from the ideal gas law.\n",
    "    \n",
    "    #At each temperature, calculate the pressure and find the error.\n",
    "    for i in range(len(temperatures)):\n",
    "        sys = ideal_sys.System(total_time=10, tau = temperatures[i], N=n,size = (1,1,1))\n",
    "        sys.run()\n",
    "        pressures[i]= sys.calc_pressure()\n",
    "        error[i] = sys.pressure_error()\n",
    "        print(str(len(temperatures)-i)+\" left\")\n",
    "    return pressures,error"
   ]
  },
  {
   "cell_type": "code",
   "execution_count": 67,
   "metadata": {},
   "outputs": [
    {
     "name": "stdout",
     "output_type": "stream",
     "text": [
      "25 left\n",
      "24 left\n",
      "23 left\n",
      "22 left\n",
      "21 left\n",
      "20 left\n",
      "19 left\n",
      "18 left\n",
      "17 left\n",
      "16 left\n",
      "15 left\n",
      "14 left\n",
      "13 left\n",
      "12 left\n",
      "11 left\n",
      "10 left\n",
      "9 left\n",
      "8 left\n",
      "7 left\n",
      "6 left\n",
      "5 left\n",
      "4 left\n",
      "3 left\n",
      "2 left\n",
      "1 left\n"
     ]
    }
   ],
   "source": [
    "pressures, error = pressure_temp(n, temps)"
   ]
  },
  {
   "cell_type": "code",
   "execution_count": 73,
   "metadata": {},
   "outputs": [
    {
     "name": "stderr",
     "output_type": "stream",
     "text": [
      "C:\\Users\\thomas\\AppData\\Local\\Continuum\\anaconda3\\lib\\site-packages\\ipykernel_launcher.py:9: RuntimeWarning: divide by zero encountered in log10\n",
      "  if __name__ == '__main__':\n"
     ]
    },
    {
     "data": {
      "text/plain": [
       "<matplotlib.legend.Legend at 0x1c709805eb8>"
      ]
     },
     "execution_count": 73,
     "metadata": {},
     "output_type": "execute_result"
    },
    {
     "data": {
      "image/png": "[encoded data removed]",
      "text/plain": [
       "<Figure size 720x576 with 1 Axes>"
      ]
     },
     "metadata": {
      "needs_background": "light"
     },
     "output_type": "display_data"
    }
   ],
   "source": [
    "ideal_pressure = (n*temps)/(sys.size[0]*sys.size[1]*sys.size[2]) #From the ideal gas law, p =NT/V\n",
    "\n",
    "fig = plt.figure(figsize=(10,8))\n",
    "\n",
    "plt.xlabel(\"log10(Temperature) (Joules)\")\n",
    "plt.ylabel(\"log10(Pressure) (Pa)\")\n",
    "plt.title(\"log10(Pressure) vs. log10(Temperature)\")\n",
    "\n",
    "plt.scatter(np.log10(temps), np.log10(pressures),color =\"green\",label=\"Model Pressure\")\n",
    "plt.plot(np.log10(temps), np.log10(ideal_pressure), color=\"orange\", label=\"Ideal Pressure\")\n",
    "plt.legend(loc=\"upper right\")"
   ]
  },
  {
   "cell_type": "markdown",
   "metadata": {},
   "source": [
    "It cannot plot the log of some of the lower model pressures since they are being rounded down to zero. A plot of the relative error in our pressure matched up against the ideal gas law is shown below:"
   ]
  },
  {
   "cell_type": "code",
   "execution_count": 74,
   "metadata": {},
   "outputs": [
    {
     "data": {
      "text/plain": [
       "<matplotlib.collections.PathCollection at 0x1c70a1cb9b0>"
      ]
     },
     "execution_count": 74,
     "metadata": {},
     "output_type": "execute_result"
    },
    {
     "data": {
      "image/png": "[encoded data removed]",
      "text/plain": [
       "<Figure size 720x576 with 1 Axes>"
      ]
     },
     "metadata": {
      "needs_background": "light"
     },
     "output_type": "display_data"
    }
   ],
   "source": [
    "fig = plt.figure(figsize=(10,8))\n",
    "\n",
    "plt.xlabel(\"log10(Temperature) (Joules)\")\n",
    "plt.ylabel(\"log10(Relative Error of Calculated Pressure)\")\n",
    "plt.title(\"Analysis of Relative Error in Pressure Calculations at Different Temperatures\")\n",
    "\n",
    "plt.scatter(np.log10(temps), np.log10(error), color=\"red\")"
   ]
  },
  {
   "cell_type": "markdown",
   "metadata": {},
   "source": [
    "It appears there's a temperature region in the middle where my model is workable. The reason for the uptick in error at temperatures below $10^{-31}$ Joules is that numpy cannot handle floats that small and is rounding them down to zero. I believe what is occuring at higher temperatures is that the timestep of my simulation is larger than the frequency of collisions, so it cannot catch all of the collisions that occur and underreports the pressure.  \n",
    "That low spot around $10^{-30}$ Joules continues to appear no matter how many times I run the simulation. I believe it is a sign that the simulation gets much more accurate for temperatures that close to absolute zero, but numpy is rounding them down to zero  \n",
    "Overall though, we recover a linear relationship between pressure and temperature that is workable over a wide range of temperatures. It makes sense that our model would behave better for low temperatures since the ideal gas approximation is more accurate when $n<<n_q$.  "
   ]
  },
  {
   "cell_type": "markdown",
   "metadata": {},
   "source": [
    "### C. Pressure and Volume"
   ]
  },
  {
   "cell_type": "markdown",
   "metadata": {},
   "source": [
    "From the ideal gas law, we know that pressure and volume should be inversely related.  \n",
    "Volume is an independent variable we may set.  \n",
    "We'll fix N at a reasonable value for runtime considerations and choose a temperature where the model runs decently well.  "
   ]
  },
  {
   "cell_type": "code",
   "execution_count": 104,
   "metadata": {},
   "outputs": [],
   "source": [
    "n=20\n",
    "tau = 10**-24 #Joules\n",
    "v_min = 10**-14   #Minimum and Maximum volume\n",
    "v_max = 10**14+1"
   ]
  },
  {
   "cell_type": "code",
   "execution_count": 105,
   "metadata": {},
   "outputs": [],
   "source": [
    "def pressure_volume(n, temp, vmin, vmax):\n",
    "    \n",
    "    vol = [] #Create some spread of volumes\n",
    "    \n",
    "    v = vmin\n",
    "    while v <=vmax:\n",
    "        vol.append(v)\n",
    "        v = v*10\n",
    "        \n",
    "    volumes = np.array(vol)\n",
    "    \n",
    "    pressures = np.array([0.]*volumes.size,dtype='float64') #our calculated pressure\n",
    "    error = np.array([0.]*volumes.size,dtype='float64') #error in our pressure, with the correct pressure being calculated from the ideal gas law.\n",
    "    \n",
    "    #At each volume, calculate the pressure and find the error.\n",
    "    for i in range(len(volumes)):\n",
    "        \n",
    "        s = volumes[i]**(1/3)\n",
    "        \n",
    "        sys = ideal_sys.System(total_time=10, tau = temp, N=n,size = (s,s,s))\n",
    "        sys.run()\n",
    "        \n",
    "        pressures[i]= sys.calc_pressure()\n",
    "        error[i] = sys.pressure_error()\n",
    "        \n",
    "        print(str(len(volumes)-i)+\" left\")\n",
    "        \n",
    "    return pressures,error,volumes"
   ]
  },
  {
   "cell_type": "code",
   "execution_count": 106,
   "metadata": {},
   "outputs": [
    {
     "name": "stdout",
     "output_type": "stream",
     "text": [
      "29 left\n",
      "28 left\n",
      "27 left\n",
      "26 left\n",
      "25 left\n",
      "24 left\n",
      "23 left\n",
      "22 left\n",
      "21 left\n",
      "20 left\n",
      "19 left\n",
      "18 left\n",
      "17 left\n",
      "16 left\n",
      "15 left\n",
      "14 left\n",
      "13 left\n",
      "12 left\n",
      "11 left\n",
      "10 left\n",
      "9 left\n",
      "8 left\n",
      "7 left\n",
      "6 left\n",
      "5 left\n",
      "4 left\n",
      "3 left\n",
      "2 left\n",
      "1 left\n"
     ]
    }
   ],
   "source": [
    "pres, err, vols = pressure_volume(n, tau, v_min, v_max)"
   ]
  },
  {
   "cell_type": "code",
   "execution_count": 107,
   "metadata": {},
   "outputs": [
    {
     "name": "stderr",
     "output_type": "stream",
     "text": [
      "C:\\Users\\thomas\\AppData\\Local\\Continuum\\anaconda3\\lib\\site-packages\\ipykernel_launcher.py:9: RuntimeWarning: divide by zero encountered in log10\n",
      "  if __name__ == '__main__':\n"
     ]
    },
    {
     "data": {
      "text/plain": [
       "<matplotlib.legend.Legend at 0x1c70a925be0>"
      ]
     },
     "execution_count": 107,
     "metadata": {},
     "output_type": "execute_result"
    },
    {
     "data": {
      "image/png": "[encoded data removed]",
      "text/plain": [
       "<Figure size 720x576 with 1 Axes>"
      ]
     },
     "metadata": {
      "needs_background": "light"
     },
     "output_type": "display_data"
    }
   ],
   "source": [
    "ideal_pres = n*tau/vols #From the ideal gas law, p =NT/V\n",
    "\n",
    "fig = plt.figure(figsize=(10,8))\n",
    "\n",
    "plt.xlabel(\"log10(Volume) (Joules)\")\n",
    "plt.ylabel(\"log10(Pressure) (Pa)\")\n",
    "plt.title(\"log10(Pressure) vs. log10(Volume)\")\n",
    "\n",
    "plt.scatter(np.log10(vols), np.log10(pres),color =\"blue\",label=\"Model Pressure\")\n",
    "plt.plot(np.log10(vols), np.log10(ideal_pres), color=\"red\", label=\"Ideal Pressure\")\n",
    "plt.legend(loc=\"upper right\")"
   ]
  },
  {
   "cell_type": "markdown",
   "metadata": {},
   "source": [
    "Some of the smaller model pressures are getting rounded down to zero. A plot of the error is below:"
   ]
  },
  {
   "cell_type": "code",
   "execution_count": 109,
   "metadata": {},
   "outputs": [
    {
     "data": {
      "text/plain": [
       "<matplotlib.collections.PathCollection at 0x1c70a9954e0>"
      ]
     },
     "execution_count": 109,
     "metadata": {},
     "output_type": "execute_result"
    },
    {
     "data": {
      "image/png": "[encoded data removed]",
      "text/plain": [
       "<Figure size 720x576 with 1 Axes>"
      ]
     },
     "metadata": {
      "needs_background": "light"
     },
     "output_type": "display_data"
    }
   ],
   "source": [
    "fig = plt.figure(figsize=(10,8))\n",
    "\n",
    "plt.xlabel(\"log10(Temperature) (Joules)\")\n",
    "plt.ylabel(\"log10(Relative Error of Calculated Pressure)\")\n",
    "plt.title(\"Analysis of Relative Error in Pressure Calculations at Different Volumes\")\n",
    "\n",
    "plt.scatter(np.log10(vols), np.log10(err), color=\"green\")"
   ]
  },
  {
   "cell_type": "markdown",
   "metadata": {},
   "source": [
    "Again, the optimal error appears to be in the middle region. I believe for sufficiently small volumes, too many collisions are happening per timestep for the model to catch it all. At high enough volume, since we have a very small N, the fluctuations in our measurement of N begin to increase and often the runtime of the model is not long enough to get enough collisions for the pressure to be correct. Thus, this model works best for a volume chosen between about $10^{-3}$ and $10^{6}$ $m^{3}$."
   ]
  },
  {
   "cell_type": "markdown",
   "metadata": {},
   "source": [
    "### D. Sudden Expansion"
   ]
  },
  {
   "cell_type": "markdown",
   "metadata": {},
   "source": [
    "It's now been established that for a relatively low N, we can choose a temperature and volume such that we can get a reasonable model of an ideal gas.  \n",
    "For fun, I wanted to test a sudden expansion of this gas and record the final pressure."
   ]
  },
  {
   "cell_type": "code",
   "execution_count": 172,
   "metadata": {},
   "outputs": [],
   "source": [
    "def sudden_expansion(temp,v1,v2, n):\n",
    "    \n",
    "    s1 = v1**(1/3)\n",
    "    s2 = v2**(1/3)\n",
    "    \n",
    "    #set up a system with the first volume\n",
    "    sys1 = ideal_sys.System(total_time=1, tau = temp, N = n, size = (s1,s1,s1))\n",
    "    sys1.run()\n",
    "    start_pres = sys1.calc_pressure()\n",
    "    \n",
    "    #grab the the particles after they've stablized a little bit\n",
    "    init_particles = sys1.particles.copy()\n",
    "    \n",
    "    #set up a system with the second volume\n",
    "    sys2 = ideal_sys.System(total_time = 10, tau = temp, N=n, size = (s2,s2,s2))\n",
    "    surface_area = 2*(sys2.size[0]*sys2.size[1] + sys2.size[1]*sys2.size[2] + sys2.size[0]*sys2.size[2])\n",
    "    \n",
    "    #place the particles from the first box in this system\n",
    "    sys2.particles = init_particles.copy()\n",
    "\n",
    "    #update and grab the amount of momentum imparted at each delta_t\n",
    "    t = 0\n",
    "    while t < sys2.runtime:\n",
    "        \n",
    "        #update the system and get the amount of momentum imparted this update\n",
    "        momentum = sys2.update() \n",
    "        sys2.p_col += momentum\n",
    "\n",
    "        t += sys2.timestep\n",
    "        \n",
    "    final_pres = sys2.calc_pressure() \n",
    "        \n",
    "    return start_pres, final_pres"
   ]
  },
  {
   "cell_type": "code",
   "execution_count": 174,
   "metadata": {},
   "outputs": [],
   "source": [
    "tau = 10**-25\n",
    "v_1 = 1\n",
    "v_2 = 10\n",
    "N = 25\n",
    "start_pres, pres = sudden_expansion(tau, v_1, v_2, N)"
   ]
  },
  {
   "cell_type": "code",
   "execution_count": 179,
   "metadata": {},
   "outputs": [
    {
     "name": "stdout",
     "output_type": "stream",
     "text": [
      "The Ideal Initial Pressure was: 2.5000000000000003e-24 Pa\n",
      "The Calculated Initial Pressure was: 1.6673646881014372e-24 Pa\n",
      "The Ideal Final Pressure was: 2.5000000000000003e-25 Pa\n",
      "The Calculated Final Pressure was: 1.6645818325166436e-25 Pa\n",
      "The log10(relative error) on our delta p is -0.478\n"
     ]
    }
   ],
   "source": [
    "ideal_pres1 = N*tau/v_1\n",
    "ideal_pres2 = N*tau/v_2\n",
    "\n",
    "print(\"The Ideal Initial Pressure was: \"+ str(ideal_pres1) + \" Pa\")\n",
    "print(\"The Calculated Initial Pressure was: \"+ str(start_pres) + \" Pa\")\n",
    "print(\"The Ideal Final Pressure was: \"+ str(ideal_pres2) + \" Pa\")\n",
    "print(\"The Calculated Final Pressure was: \"+ str(pres) + \" Pa\")\n",
    "\n",
    "delp_ideal = ideal_pres2 - ideal_pres1\n",
    "delp_calc = pres - start_pres\n",
    "err = np.log10(np.abs((delp_calc-delp_ideal)/delp_ideal))\n",
    "\n",
    "print(\"The log10(relative error) on our delta p is \"+ str(np.round(err,3)))"
   ]
  },
  {
   "cell_type": "markdown",
   "metadata": {},
   "source": [
    "We can thus make a decent model of the change in pressure from a sudden expansion into a vacuum. "
   ]
  },
  {
   "cell_type": "markdown",
   "metadata": {},
   "source": [
    "## II. Van Der Walls Gas"
   ]
  },
  {
   "cell_type": "code",
   "execution_count": null,
   "metadata": {},
   "outputs": [],
   "source": []
  }
 ],
 "metadata": {
  "kernelspec": {
   "display_name": "Python 3",
   "language": "python",
   "name": "python3"
  },
  "language_info": {
   "codemirror_mode": {
    "name": "ipython",
    "version": 3
   },
   "file_extension": ".py",
   "mimetype": "text/x-python",
   "name": "python",
   "nbconvert_exporter": "python",
   "pygments_lexer": "ipython3",
   "version": "3.7.3"
  }
 },
 "nbformat": 4,
 "nbformat_minor": 2
}
